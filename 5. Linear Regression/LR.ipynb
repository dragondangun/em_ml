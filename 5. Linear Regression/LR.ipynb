{
 "cells": [
  {
   "cell_type": "markdown",
   "id": "9fba40ae",
   "metadata": {},
   "source": [
    "# Линейная регрессия\n",
    "\n",
    "Здесь хороший повод поговорить о математике, но меня просили не. Что ж, надеюсь, это не помешает вам сопоставить теорию с практикой. \n",
    "\n",
    "Суть: у нас есть несколько параметров и есть некоторое числовое значение, зависимость которого от этих самых параметров мы и хотим узнать. Например: есть количество квартир в доме, есть площадь парковки возле дома и есть площадь конкретной квартиры. По этим трём параметрам нужно найти стоимость этой квартиры. Пара из трёх параметров и цены квартиры составляют одну запись/один индивид. Таких индивидов у нас несколько (желательно довольно много). \n",
    "\n",
    "## Цели линейной регрессии\n",
    "\n",
    "Собственно линейную регрессию используют для двух целей:\n",
    "* Предсказать значение нового индивида при известных параметрах\n",
    "* Объяснить как влияет каждый из параметров на искомое значение\n",
    "\n",
    "## Когда её используют\n",
    "\n",
    "Обычно её используют для получения первых выводов из данных, перед тем как начать использовать ~~нормальные~~ более сложные модели. \n",
    "\n",
    "## Какой у нас план?\n",
    "\n",
    "В виду ограничений, будем пытаться разобраться по ходу, надеюсь, вам будет понятно. Вообще будет здорово, если освежите теоретические основы, но постараюсь всё показать на живом примере.\n",
    "\n",
    "## Библиотека \n",
    "\n",
    "По традиции, нам нужно для начала установить библиотеку. В нашем случае на выбор предоставляется две библиотеки: `statsmodels` и `scikit-learn` (читают *склёрн*). Первая хороша для тех, кто дружит с матстатом, поэтому это не наш случай и выбираем вторую. Функционал этих библиотек неограничен исключительно линейной регрессией, но пока мы рассмотрим только её. "
   ]
  },
  {
   "cell_type": "code",
   "execution_count": null,
   "id": "12966966",
   "metadata": {},
   "outputs": [],
   "source": [
    "# !pip install scikit-learn"
   ]
  },
  {
   "cell_type": "markdown",
   "id": "d319aacd",
   "metadata": {},
   "source": [
    "### Импорт\n",
    "\n",
    "Внезапно, импортируем мы её не как `import scikit-learn` и даже не `import sklearn`. Библиотека довольно объёмна, а нам нужны только отдельные её модули, даже отдельные части её модулей. Для большей целостности импортируем всё необходимое здесь, а по ходу дела буду объяснять, что именно мы здесь набрали."
   ]
  },
  {
   "cell_type": "code",
   "execution_count": 1,
   "id": "0dc80439",
   "metadata": {},
   "outputs": [],
   "source": [
    "import matplotlib.pyplot as plt\n",
    "import seaborn as sns\n",
    "import pandas as pd\n",
    "\n",
    "from sklearn.model_selection import train_test_split\n",
    "from sklearn.linear_model import LinearRegression\n",
    "from sklearn.metrics import mean_squared_error, r2_score"
   ]
  },
  {
   "cell_type": "markdown",
   "id": "ff99d001",
   "metadata": {},
   "source": [
    "## Начало работы / обработка датасета\n",
    "\n",
    "Самое первое, что необходимо сделать $\\text{---}$ так это узнать какие данные у нас есть и что мы хотим вообще найти. \n",
    "\n",
    "> Online property companies offer valuations of houses using machine learning techniques. The aim of this report is to predict the house sales in King County, Washington State, USA using Multiple Linear Regression (MLR). The dataset consisted of historic data of houses sold between May 2014 to May 2015.\n",
    "\n",
    "В общем, по данным о недвижке будем предсказывать стоимость."
   ]
  },
  {
   "cell_type": "code",
   "execution_count": 2,
   "id": "aab4b7c1",
   "metadata": {},
   "outputs": [
    {
     "name": "stdout",
     "output_type": "stream",
     "text": [
      "<class 'pandas.core.frame.DataFrame'>\n",
      "RangeIndex: 21613 entries, 0 to 21612\n",
      "Data columns (total 21 columns):\n",
      " #   Column         Non-Null Count  Dtype  \n",
      "---  ------         --------------  -----  \n",
      " 0   id             21613 non-null  int64  \n",
      " 1   date           21613 non-null  object \n",
      " 2   price          21613 non-null  float64\n",
      " 3   bedrooms       21613 non-null  int64  \n",
      " 4   bathrooms      21613 non-null  float64\n",
      " 5   sqft_living    21613 non-null  int64  \n",
      " 6   sqft_lot       21613 non-null  int64  \n",
      " 7   floors         21613 non-null  float64\n",
      " 8   waterfront     21613 non-null  int64  \n",
      " 9   view           21613 non-null  int64  \n",
      " 10  condition      21613 non-null  int64  \n",
      " 11  grade          21613 non-null  int64  \n",
      " 12  sqft_above     21611 non-null  float64\n",
      " 13  sqft_basement  21613 non-null  int64  \n",
      " 14  yr_built       21613 non-null  int64  \n",
      " 15  yr_renovated   21613 non-null  int64  \n",
      " 16  zipcode        21613 non-null  int64  \n",
      " 17  lat            21613 non-null  float64\n",
      " 18  long           21613 non-null  float64\n",
      " 19  sqft_living15  21613 non-null  int64  \n",
      " 20  sqft_lot15     21613 non-null  int64  \n",
      "dtypes: float64(6), int64(14), object(1)\n",
      "memory usage: 3.5+ MB\n"
     ]
    }
   ],
   "source": [
    "file_name = 'kc_house_data.csv'\n",
    "\n",
    "df = pd.read_csv(file_name)\n",
    "df.info()"
   ]
  },
  {
   "cell_type": "markdown",
   "id": "5faaa181",
   "metadata": {},
   "source": [
    "Сразу удалим то, что нам не нужно. \n",
    "* `id` $\\text{---}$ идентификационный код никак не может повлиять на стоимость квартиры.\n",
    "* `zipcode` $\\text{---}$ это америакнский почтовый индекс, его можно использовать в анализе, но *feature exploration* такого уровня выходит за рамки нашего курса.\n",
    "* `lat` и `long` $\\text{---}$ широта и долгота, та же ситуация, что и выше. "
   ]
  },
  {
   "cell_type": "code",
   "execution_count": 3,
   "id": "a3733b0a",
   "metadata": {},
   "outputs": [
    {
     "data": {
      "text/html": [
       "<div>\n",
       "<style scoped>\n",
       "    .dataframe tbody tr th:only-of-type {\n",
       "        vertical-align: middle;\n",
       "    }\n",
       "\n",
       "    .dataframe tbody tr th {\n",
       "        vertical-align: top;\n",
       "    }\n",
       "\n",
       "    .dataframe thead th {\n",
       "        text-align: right;\n",
       "    }\n",
       "</style>\n",
       "<table border=\"1\" class=\"dataframe\">\n",
       "  <thead>\n",
       "    <tr style=\"text-align: right;\">\n",
       "      <th></th>\n",
       "      <th>date</th>\n",
       "      <th>bedrooms</th>\n",
       "      <th>bathrooms</th>\n",
       "      <th>sqft_living</th>\n",
       "      <th>sqft_lot</th>\n",
       "      <th>floors</th>\n",
       "      <th>waterfront</th>\n",
       "      <th>view</th>\n",
       "      <th>condition</th>\n",
       "      <th>grade</th>\n",
       "      <th>sqft_above</th>\n",
       "      <th>sqft_basement</th>\n",
       "      <th>yr_built</th>\n",
       "      <th>yr_renovated</th>\n",
       "      <th>sqft_living15</th>\n",
       "      <th>sqft_lot15</th>\n",
       "      <th>price</th>\n",
       "    </tr>\n",
       "  </thead>\n",
       "  <tbody>\n",
       "    <tr>\n",
       "      <th>0</th>\n",
       "      <td>20141013T000000</td>\n",
       "      <td>3</td>\n",
       "      <td>1.00</td>\n",
       "      <td>1180</td>\n",
       "      <td>5650</td>\n",
       "      <td>1.0</td>\n",
       "      <td>0</td>\n",
       "      <td>0</td>\n",
       "      <td>3</td>\n",
       "      <td>7</td>\n",
       "      <td>1180.0</td>\n",
       "      <td>0</td>\n",
       "      <td>1955</td>\n",
       "      <td>0</td>\n",
       "      <td>1340</td>\n",
       "      <td>5650</td>\n",
       "      <td>221900.0</td>\n",
       "    </tr>\n",
       "    <tr>\n",
       "      <th>1</th>\n",
       "      <td>20141209T000000</td>\n",
       "      <td>3</td>\n",
       "      <td>2.25</td>\n",
       "      <td>2570</td>\n",
       "      <td>7242</td>\n",
       "      <td>2.0</td>\n",
       "      <td>0</td>\n",
       "      <td>0</td>\n",
       "      <td>3</td>\n",
       "      <td>7</td>\n",
       "      <td>2170.0</td>\n",
       "      <td>400</td>\n",
       "      <td>1951</td>\n",
       "      <td>1991</td>\n",
       "      <td>1690</td>\n",
       "      <td>7639</td>\n",
       "      <td>538000.0</td>\n",
       "    </tr>\n",
       "    <tr>\n",
       "      <th>2</th>\n",
       "      <td>20150225T000000</td>\n",
       "      <td>2</td>\n",
       "      <td>1.00</td>\n",
       "      <td>770</td>\n",
       "      <td>10000</td>\n",
       "      <td>1.0</td>\n",
       "      <td>0</td>\n",
       "      <td>0</td>\n",
       "      <td>3</td>\n",
       "      <td>6</td>\n",
       "      <td>770.0</td>\n",
       "      <td>0</td>\n",
       "      <td>1933</td>\n",
       "      <td>0</td>\n",
       "      <td>2720</td>\n",
       "      <td>8062</td>\n",
       "      <td>180000.0</td>\n",
       "    </tr>\n",
       "    <tr>\n",
       "      <th>3</th>\n",
       "      <td>20141209T000000</td>\n",
       "      <td>4</td>\n",
       "      <td>3.00</td>\n",
       "      <td>1960</td>\n",
       "      <td>5000</td>\n",
       "      <td>1.0</td>\n",
       "      <td>0</td>\n",
       "      <td>0</td>\n",
       "      <td>5</td>\n",
       "      <td>7</td>\n",
       "      <td>1050.0</td>\n",
       "      <td>910</td>\n",
       "      <td>1965</td>\n",
       "      <td>0</td>\n",
       "      <td>1360</td>\n",
       "      <td>5000</td>\n",
       "      <td>604000.0</td>\n",
       "    </tr>\n",
       "    <tr>\n",
       "      <th>4</th>\n",
       "      <td>20150218T000000</td>\n",
       "      <td>3</td>\n",
       "      <td>2.00</td>\n",
       "      <td>1680</td>\n",
       "      <td>8080</td>\n",
       "      <td>1.0</td>\n",
       "      <td>0</td>\n",
       "      <td>0</td>\n",
       "      <td>3</td>\n",
       "      <td>8</td>\n",
       "      <td>1680.0</td>\n",
       "      <td>0</td>\n",
       "      <td>1987</td>\n",
       "      <td>0</td>\n",
       "      <td>1800</td>\n",
       "      <td>7503</td>\n",
       "      <td>510000.0</td>\n",
       "    </tr>\n",
       "  </tbody>\n",
       "</table>\n",
       "</div>"
      ],
      "text/plain": [
       "              date  bedrooms  bathrooms  sqft_living  sqft_lot  floors  \\\n",
       "0  20141013T000000         3       1.00         1180      5650     1.0   \n",
       "1  20141209T000000         3       2.25         2570      7242     2.0   \n",
       "2  20150225T000000         2       1.00          770     10000     1.0   \n",
       "3  20141209T000000         4       3.00         1960      5000     1.0   \n",
       "4  20150218T000000         3       2.00         1680      8080     1.0   \n",
       "\n",
       "   waterfront  view  condition  grade  sqft_above  sqft_basement  yr_built  \\\n",
       "0           0     0          3      7      1180.0              0      1955   \n",
       "1           0     0          3      7      2170.0            400      1951   \n",
       "2           0     0          3      6       770.0              0      1933   \n",
       "3           0     0          5      7      1050.0            910      1965   \n",
       "4           0     0          3      8      1680.0              0      1987   \n",
       "\n",
       "   yr_renovated  sqft_living15  sqft_lot15     price  \n",
       "0             0           1340        5650  221900.0  \n",
       "1          1991           1690        7639  538000.0  \n",
       "2             0           2720        8062  180000.0  \n",
       "3             0           1360        5000  604000.0  \n",
       "4             0           1800        7503  510000.0  "
      ]
     },
     "execution_count": 3,
     "metadata": {},
     "output_type": "execute_result"
    }
   ],
   "source": [
    "df.drop(['id', 'zipcode', 'lat', 'long'], axis=1, inplace=True)\n",
    "df['price'] = df.pop('price') # для красоты поставим в конец\n",
    "df.head()"
   ]
  },
  {
   "cell_type": "markdown",
   "id": "46d0f949",
   "metadata": {},
   "source": [
    "Теперь разберёмся с оставшимися:\n",
    "* `bedrooms` и `bathrooms` $\\text{---}$ соответственно количество спален и ванных комнат. Внезапно количество ванных комнат не обязательно натуральное число, но что с них взять $\\text{---}$ у них шоколадные батончики в дюймах и рутбир в пинтах. \n",
    "* `sqft_living` и `sqft_lot` $\\text{---}$ соответственно площадь жилых помещений и земельных участков. \n",
    "* `sqft_living15` и `sqft_lot15` $\\text{---}$ соответственно площадь жилых помещений и земельных участков, но в этот раз не конкретной недвижки, а ближайших 15 объектов. \n",
    "* `sqft_basement` и `sqft_above` $\\text{---}$ соответственно площадь подвальных помещений и надземных. \n",
    "* `floors` $\\text{---}$ количество этажей, та же история, что и с ванными комнатами.\n",
    "* `waterfront` $\\text{---}$ находится возле набережной.\n",
    "* `viewfront`, `condition` и `grade` $\\text{---}$ те или иные качественные оценки дома и окружающего вида. \n",
    "* `date` $\\text{---}$ дата продажи дома.\n",
    "\n",
    "Данные у нас с мая 14-ого по май 15-ого, допустим, что различия между месяцами больше, чем различия внутри месяца, поэтому преобразуем дату в строку вида `MM.YY`, сделаем из этого категориальную переменную. Вообще правильно было бы сделать несколько предположений, попробовать объединить по сезонам, кварталам, полугодиям, но в силу задач нашего курса оставим эту важную работу вам. Можете потом сообщить результаты.  "
   ]
  },
  {
   "cell_type": "code",
   "execution_count": null,
   "id": "edb23fcf",
   "metadata": {},
   "outputs": [
    {
     "data": {
      "text/html": [
       "<div>\n",
       "<style scoped>\n",
       "    .dataframe tbody tr th:only-of-type {\n",
       "        vertical-align: middle;\n",
       "    }\n",
       "\n",
       "    .dataframe tbody tr th {\n",
       "        vertical-align: top;\n",
       "    }\n",
       "\n",
       "    .dataframe thead th {\n",
       "        text-align: right;\n",
       "    }\n",
       "</style>\n",
       "<table border=\"1\" class=\"dataframe\">\n",
       "  <thead>\n",
       "    <tr style=\"text-align: right;\">\n",
       "      <th></th>\n",
       "      <th>date</th>\n",
       "      <th>bedrooms</th>\n",
       "      <th>bathrooms</th>\n",
       "      <th>sqft_living</th>\n",
       "      <th>sqft_lot</th>\n",
       "      <th>floors</th>\n",
       "      <th>waterfront</th>\n",
       "      <th>view</th>\n",
       "      <th>condition</th>\n",
       "      <th>grade</th>\n",
       "      <th>sqft_above</th>\n",
       "      <th>sqft_basement</th>\n",
       "      <th>yr_built</th>\n",
       "      <th>yr_renovated</th>\n",
       "      <th>sqft_living15</th>\n",
       "      <th>sqft_lot15</th>\n",
       "      <th>price</th>\n",
       "    </tr>\n",
       "  </thead>\n",
       "  <tbody>\n",
       "    <tr>\n",
       "      <th>0</th>\n",
       "      <td>14.10</td>\n",
       "      <td>3</td>\n",
       "      <td>1.00</td>\n",
       "      <td>1180</td>\n",
       "      <td>5650</td>\n",
       "      <td>1.0</td>\n",
       "      <td>0</td>\n",
       "      <td>0</td>\n",
       "      <td>3</td>\n",
       "      <td>7</td>\n",
       "      <td>1180.0</td>\n",
       "      <td>0</td>\n",
       "      <td>1955</td>\n",
       "      <td>0</td>\n",
       "      <td>1340</td>\n",
       "      <td>5650</td>\n",
       "      <td>221900.0</td>\n",
       "    </tr>\n",
       "    <tr>\n",
       "      <th>1</th>\n",
       "      <td>14.12</td>\n",
       "      <td>3</td>\n",
       "      <td>2.25</td>\n",
       "      <td>2570</td>\n",
       "      <td>7242</td>\n",
       "      <td>2.0</td>\n",
       "      <td>0</td>\n",
       "      <td>0</td>\n",
       "      <td>3</td>\n",
       "      <td>7</td>\n",
       "      <td>2170.0</td>\n",
       "      <td>400</td>\n",
       "      <td>1951</td>\n",
       "      <td>1991</td>\n",
       "      <td>1690</td>\n",
       "      <td>7639</td>\n",
       "      <td>538000.0</td>\n",
       "    </tr>\n",
       "    <tr>\n",
       "      <th>2</th>\n",
       "      <td>15.02</td>\n",
       "      <td>2</td>\n",
       "      <td>1.00</td>\n",
       "      <td>770</td>\n",
       "      <td>10000</td>\n",
       "      <td>1.0</td>\n",
       "      <td>0</td>\n",
       "      <td>0</td>\n",
       "      <td>3</td>\n",
       "      <td>6</td>\n",
       "      <td>770.0</td>\n",
       "      <td>0</td>\n",
       "      <td>1933</td>\n",
       "      <td>0</td>\n",
       "      <td>2720</td>\n",
       "      <td>8062</td>\n",
       "      <td>180000.0</td>\n",
       "    </tr>\n",
       "    <tr>\n",
       "      <th>3</th>\n",
       "      <td>14.12</td>\n",
       "      <td>4</td>\n",
       "      <td>3.00</td>\n",
       "      <td>1960</td>\n",
       "      <td>5000</td>\n",
       "      <td>1.0</td>\n",
       "      <td>0</td>\n",
       "      <td>0</td>\n",
       "      <td>5</td>\n",
       "      <td>7</td>\n",
       "      <td>1050.0</td>\n",
       "      <td>910</td>\n",
       "      <td>1965</td>\n",
       "      <td>0</td>\n",
       "      <td>1360</td>\n",
       "      <td>5000</td>\n",
       "      <td>604000.0</td>\n",
       "    </tr>\n",
       "    <tr>\n",
       "      <th>4</th>\n",
       "      <td>15.02</td>\n",
       "      <td>3</td>\n",
       "      <td>2.00</td>\n",
       "      <td>1680</td>\n",
       "      <td>8080</td>\n",
       "      <td>1.0</td>\n",
       "      <td>0</td>\n",
       "      <td>0</td>\n",
       "      <td>3</td>\n",
       "      <td>8</td>\n",
       "      <td>1680.0</td>\n",
       "      <td>0</td>\n",
       "      <td>1987</td>\n",
       "      <td>0</td>\n",
       "      <td>1800</td>\n",
       "      <td>7503</td>\n",
       "      <td>510000.0</td>\n",
       "    </tr>\n",
       "  </tbody>\n",
       "</table>\n",
       "</div>"
      ],
      "text/plain": [
       "    date  bedrooms  bathrooms  sqft_living  sqft_lot  floors  waterfront  \\\n",
       "0  14.10         3       1.00         1180      5650     1.0           0   \n",
       "1  14.12         3       2.25         2570      7242     2.0           0   \n",
       "2  15.02         2       1.00          770     10000     1.0           0   \n",
       "3  14.12         4       3.00         1960      5000     1.0           0   \n",
       "4  15.02         3       2.00         1680      8080     1.0           0   \n",
       "\n",
       "   view  condition  grade  sqft_above  sqft_basement  yr_built  yr_renovated  \\\n",
       "0     0          3      7      1180.0              0      1955             0   \n",
       "1     0          3      7      2170.0            400      1951          1991   \n",
       "2     0          3      6       770.0              0      1933             0   \n",
       "3     0          5      7      1050.0            910      1965             0   \n",
       "4     0          3      8      1680.0              0      1987             0   \n",
       "\n",
       "   sqft_living15  sqft_lot15     price  \n",
       "0           1340        5650  221900.0  \n",
       "1           1690        7639  538000.0  \n",
       "2           2720        8062  180000.0  \n",
       "3           1360        5000  604000.0  \n",
       "4           1800        7503  510000.0  "
      ]
     },
     "execution_count": 49,
     "metadata": {},
     "output_type": "execute_result"
    }
   ],
   "source": [
    "df['date'] = df['date'].str[2:4] + '.' + df['date'].str[4:6]\n",
    "df.head()"
   ]
  },
  {
   "cell_type": "markdown",
   "id": "aa143e0e",
   "metadata": {},
   "source": [
    "Сохраним преобразованные данные, чтобы не проводить вышеописанное каждый раз. В нашем случае не критично, но привычка полезная."
   ]
  },
  {
   "cell_type": "code",
   "execution_count": null,
   "id": "044ddb67",
   "metadata": {},
   "outputs": [],
   "source": [
    "save_file_name = 'kc_house_data_mod.csv'\n",
    "df.to_csv(save_file_name, index=False)\n",
    "df = pd.read_csv(save_file_name)"
   ]
  },
  {
   "cell_type": "markdown",
   "id": "226257c9",
   "metadata": {},
   "source": [
    "Далее разделим датасет на обучающий и проверочный набор данных. В проверочный набор данных мы не лезем. Совсем не лезем. Даже не смотрим. Это нечестно. Так делать не надо. "
   ]
  },
  {
   "cell_type": "code",
   "execution_count": 52,
   "id": "b6e5b16e",
   "metadata": {},
   "outputs": [],
   "source": [
    "seed = 1\n",
    "train, test = train_test_split(df, train_size=0.8, random_state=seed)"
   ]
  },
  {
   "cell_type": "markdown",
   "id": "120199ed",
   "metadata": {},
   "source": [
    "Вообще, с точки зрения математики, необходимо обратить внимание на следующие признаки: `sqft_living`, `sqft_basement` и `sqft_above`. Дело в том, что они отчасти перекрывают друг друга. Если подвальные помещения оборудованы под жилые, то площадь подвального помещения уже будет учтена в площади жилых помещений. Если подвала нет, то площадь надземных помещений (как мы увидим далее) часто равна площади жилых помещений, тем самым она будет учтена дважды. В некотором смысле мы получаем такое страшное словосочетание как \"линейная комбинация\", а применяя метод линейной регрессии желательно не иметь в своих данных линейных комбинаций, т.к. есть методы, которые вообще не сойдутся при таких условиях. Мы попытаемся как-то разрешить эту проблему, но предупреждаю сразу, что я не буду пытаться достичь лучшего результата, поскольку, ну, это просто учебный пример. Посмотрим что мы можем вытащить."
   ]
  },
  {
   "cell_type": "code",
   "execution_count": 53,
   "id": "8ab98a7d",
   "metadata": {},
   "outputs": [
    {
     "data": {
      "text/plain": [
       "2"
      ]
     },
     "execution_count": 53,
     "metadata": {},
     "output_type": "execute_result"
    }
   ],
   "source": [
    "# Количество объектов, где сумма площади надземных и подземных помещений не\n",
    "# равна площади надземных помещений   \n",
    "train[(train['sqft_above'] + train['sqft_basement']) \n",
    "      != train['sqft_living']].shape[0]"
   ]
  },
  {
   "cell_type": "code",
   "execution_count": 40,
   "id": "abfb62e9",
   "metadata": {},
   "outputs": [
    {
     "data": {
      "text/plain": [
       "1"
      ]
     },
     "execution_count": 40,
     "metadata": {},
     "output_type": "execute_result"
    }
   ],
   "source": [
    "# Количество объектов, где площадь надземных помещений не равна площади жилых \n",
    "# помещений, при отсутствующем подвале (очевидно, что это один из тех двух\n",
    "# случаев).\n",
    "len(train[(train['sqft_above'] != train['sqft_living']) \n",
    "          & (train['sqft_basement'] == 0)])"
   ]
  },
  {
   "cell_type": "markdown",
   "id": "63c3929f",
   "metadata": {},
   "source": [
    "И если вы не сказали сейчас: \"Так, минуточку\", то это было зря. Можете сказать это сейчас, а я объясню почему. Вернёмся к выводу информации о датасете. Я дублировать не буду, сами посмотрите. Если присмотреться внимательно, то можно заметить, что у нас "
   ]
  },
  {
   "cell_type": "code",
   "execution_count": 43,
   "id": "6e7befd3",
   "metadata": {},
   "outputs": [
    {
     "data": {
      "text/plain": [
       "str"
      ]
     },
     "execution_count": 43,
     "metadata": {},
     "output_type": "execute_result"
    }
   ],
   "source": [
    "type(df['date'][0])"
   ]
  }
 ],
 "metadata": {
  "kernelspec": {
   "display_name": "Python 3",
   "language": "python",
   "name": "python3"
  },
  "language_info": {
   "codemirror_mode": {
    "name": "ipython",
    "version": 3
   },
   "file_extension": ".py",
   "mimetype": "text/x-python",
   "name": "python",
   "nbconvert_exporter": "python",
   "pygments_lexer": "ipython3",
   "version": "3.11.9"
  }
 },
 "nbformat": 4,
 "nbformat_minor": 5
}
