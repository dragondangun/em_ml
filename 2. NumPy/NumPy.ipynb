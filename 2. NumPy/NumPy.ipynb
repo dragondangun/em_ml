{
 "cells": [
  {
   "cell_type": "markdown",
   "metadata": {},
   "source": [
    "# NumPy\n",
    "\n",
    "## Виртуальное окружение\n",
    "\n",
    "Но прежде, чем перейдём к основной теме $\\text{---}$ есть ещё вещь, которую надо обсудить. Возможно, в этом курсе она не такая уж и важная, но в приличном обществе так делать принято. Я говорю о виртуальном окружении. \n",
    "\n",
    "Виртуальное окружение $\\text{---}$ это среда, изолирующая набор установленных пакетов и версий Python от системной среды и/или от других проектов. Зачем?\n",
    "1. Разные проекты могут требовать разные версии одних и тех же библиотек. Если устанавливать их без использования виртуальных окружений (т.е. глобально), то вы неизбежно наткнётесь на несовместимость. Как можете догадаться каждый раз удалять и ставить необходимую версию библиотеки для работы с тем или иным проектом $\\text{---}$ не самое увлекательное занятие, поэтому используйте виртуальные окружения.\n",
    "2. При переходе на другую рабочую машину можно быстро воссоздать используемое [на изначальной машине] окружение (с помощью фиксации списков пакетов в `requirements.txt`, например). Опять же, ничего не сломав при этом новой. \n",
    "3. Большое количество пакетов, скаченных однажды для какой-то мелкой задачки, может захламить систему и привести к конфликтам.\n",
    "4. Возможность использовать несколько разных версий Python (например, для поддержки legacy проектов).\n",
    "\n",
    "Более \"традиционный\" способ создавать виртуальные окружения с помощью терминала (и в этом абсолютно нет ничего сложного), но ввиду демонстративных целей данного курса и отсюда максимального упрощения $\\text{---}$ мы сделаем это через VSCode.\n",
    "\n",
    "1. В правом верхнем углу нажимаем кнопку \"Select Kernel\" (или \"Python 3.x.y\", где x, y версия Python).\n",
    "\n",
    "![Select Kernel](pictures/1.png)\n",
    "\n",
    "2. В появившемся меню нажимаем \"Select Another Kernel...\"\n",
    "\n",
    "![Select Another Kernel](pictures/2.png)\n",
    "\n",
    "3. Нажимаем \"Python Environments...\"\n",
    "\n",
    "![Python Environments](pictures/3.png)\n",
    "\n",
    "4. \"Create New Environment...\"\n",
    "\n",
    "![Create New Environment](pictures/4.png)\n",
    "\n",
    "5. \"Venv\"\n",
    "\n",
    "> NB: Если вы используете конду, то вместо `.venv` выберете опцию конды. В шаге 8 изменения должны быть аналогичные.\n",
    "\n",
    "![Venv](pictures/5.png)\n",
    "\n",
    "6. \"Use Python from \\`python.defaultInterpreterPath\\` setting\n",
    "\n",
    "![default path](./pictures/6.png)\n",
    "\n",
    "7. Ждём пока окошко в правом нижнем углу не пропадёт.\n",
    "\n",
    "![info](./pictures/7.png)\n",
    "\n",
    "8. Если на месте кнопки \"Select Kernel\" или что у вас там было в шаге №1 теперь написано \".venv (Python.3.x.y)\", то у вас всё удалось. Слева, в обозревателе (напоминание: если он закрыт, то его можно открыть нажав на пиктограму двух файлов в левом верхнем углу или по комбинации клавиш `Ctrl+B`) должна появиться папка `.venv`. Если решите использовать виртуальное окружение, то не забывайте путь к этой папке (пусть она нужна будет для наших учебных целей).\n",
    "\n",
    "Если вы не хотите использовать виртуальное окружение (зря), но всё равно выполнили все действия, то прежде, чем перейти дальше -- не забудьте вернуться к глобальной версии (нажав на кнопку выбора ядра и выбрав там то, что вам надо). С другой стороны, если вы уже создали виртуальное окружение, то зачем отказываться им пользоваться, если вещь нужная и полезная? Определитесь сами, а мы продолжим.\n",
    "\n",
    "## О NumPy\n",
    "\n",
    "NumPy $\\text{---}$ библиотека для научных вычислений. Плюшки:\n",
    "* Ndarray $\\text{---}$ многомерный массив, оптимизированный для быстрых вычислений (скажите спасибо за это C (языку))\n",
    "* Замена явных циклов на операции над массивами (векторизация), ускоряет вычисления\n",
    "* Операции линейной алгебры, генерация псевдослучаных чисел, статистические функции и многое другое.\n",
    "\n",
    "Зачем? Помимо вышеописанного многие библиотеки для МО и ИИ основаны на NumPy, поэтому нужно знать хотя бы его азы.\n",
    "\n",
    "## Установка\n",
    "\n",
    "В терминале необходимо выполнить комманду: `pip install numpy` (в случае конды: `conda install numpy`). Если вы используете виртуальное окружение, которое только что создали, то убейте терминал (нажав на пиктограмму мусорного ведра, расположенной на одном уровне с нижними вкладками (среди которых есть вкладка терминала) в правой части) и откройте новый. Ну или закройте/откройте VS Code, как вам удобнее будет.\n",
    "\n",
    "Если следующая ячейка выполнится корректно, то значит установка прошла успешно."
   ]
  },
  {
   "cell_type": "code",
   "execution_count": 1,
   "metadata": {},
   "outputs": [],
   "source": [
    "import numpy as np"
   ]
  },
  {
   "cell_type": "markdown",
   "metadata": {},
   "source": [
    "Обратим внимение на часть `as np`. `np` $\\text{---}$ общепринятое сокращение для NumPy. Если убрать `as np`, то вместо `np` придётся писать `numpy`, поэтому рекомендуется сокращать и рационально использовать сэкономленное время.\n",
    "\n",
    "## База\n",
    "\n",
    "### Инициализация векторов и матриц"
   ]
  },
  {
   "cell_type": "code",
   "execution_count": 51,
   "metadata": {},
   "outputs": [
    {
     "name": "stdout",
     "output_type": "stream",
     "text": [
      "Вектор: [1 2 3 4]\n",
      "Матрица:\n",
      "[[1 2 3]\n",
      " [4 5 6]]\n",
      "\n",
      "Размер вектора: (4,)\n",
      "Размер матрицы: (2, 3) (строк, столбцов)\n",
      "Длина вектора: 4\n",
      "Длина матрицы: 2 (sic!)\n"
     ]
    }
   ],
   "source": [
    "vec = np.array([1, 2, 3, 4]) # передаём список\n",
    "matrix = np.array([          # передаём список списков\n",
    "    [1, 2, 3],\n",
    "    [4, 5, 6]\n",
    "])\n",
    "\n",
    "print(f'Вектор: {vec}')\n",
    "print(f'Матрица:\\n{matrix}\\n')\n",
    "\n",
    "print(f'Размер вектора: {vec.shape}')\n",
    "print(f'Размер матрицы: {matrix.shape} (строк, столбцов)')\n",
    "print(f'Длина вектора: {len(vec)}')\n",
    "print(f'Длина матрицы: {len(matrix)} (sic!)')\n"
   ]
  },
  {
   "cell_type": "markdown",
   "metadata": {},
   "source": [
    "Обратите внимание на последнюю строку. *Длина* матрицы (и другого многомерного объекта) $\\text{---}$ это длина *только первого* измерения, а не общее количество элементов. \n",
    "\n",
    "Также отметим, что все элементы должны быть одного и того же типа."
   ]
  },
  {
   "cell_type": "code",
   "execution_count": 52,
   "metadata": {},
   "outputs": [
    {
     "name": "stdout",
     "output_type": "stream",
     "text": [
      "vec  [1 2 3 4]            int64                \n",
      "vec2 [1.  2.3 3.  4. ]    float64              \n",
      "vec3 [1 1 0 4]            int64                \n",
      "vec4 [1. 1. 0. 4.]        float64              \n",
      "vec5 ['1' 'х' '2' '3.0']  <U32                 \n"
     ]
    }
   ],
   "source": [
    "vec2 = np.array([1, 2.3, 3, 4])\n",
    "vec3 = np.array([1, True, False, 4])\n",
    "vec4 = np.array([1, True, False, 4.])\n",
    "vec5 = np.array([1, 'х', 2, 3.])\n",
    "\n",
    "template = '{:4} {:20} {:<21}'\n",
    "print(template.format('vec',  str(vec),  str(vec.dtype)))\n",
    "print(template.format('vec2', str(vec2), str(vec2.dtype)))\n",
    "print(template.format('vec3', str(vec3), str(vec3.dtype)))\n",
    "print(template.format('vec4', str(vec4), str(vec4.dtype)))\n",
    "print(template.format('vec5', str(vec5), str(vec5.dtype)))"
   ]
  },
  {
   "cell_type": "markdown",
   "metadata": {},
   "source": [
    "<a name=\"for_curious1\">Для любознательных</a>: разобраться в коде выше, что именно и как он делает. \n",
    "\n",
    "Для всех остальных $\\text{---}$ это способ красиво оформить вывод, по сути тоже самое, что и `print(vec, type(vec[0]))`. \n",
    "\n",
    "Как видим, при передаче разнородных элементов происходит конвертация:\n",
    "* Дробное среди целых $\\text{---}$ все целые становятся дробным\n",
    "* Булевая среди целых $\\text{---}$ `True` становится `1`, а `False` $\\text{---}$ `0`.\n",
    "* Случай с `vec4` разобрать самостоятельно.\n",
    "* Строка $\\text{---}$ конвертирует всё в строку.\n",
    "\n",
    "#### Функции инициализации"
   ]
  },
  {
   "cell_type": "markdown",
   "metadata": {},
   "source": [
    "Функция `zeros` $\\text{---}$ инициализирует нулевую матрицу заданного размера (по умолчанию типа `float64`). Обратите внимание на индексацию матрицы (`[x, y]` можно использовать также, как и `[x][y]`)."
   ]
  },
  {
   "cell_type": "code",
   "execution_count": 54,
   "metadata": {},
   "outputs": [
    {
     "name": "stdout",
     "output_type": "stream",
     "text": [
      "[[0. 0. 0.]\n",
      " [0. 0. 0.]] <class 'numpy.float64'>\n"
     ]
    }
   ],
   "source": [
    "zeros_matrix = np.zeros((2, 3)) # передаём кортеж длин измерений:\n",
    "                                # (строк, столбцов)\n",
    "print(zeros_matrix, type([0,0]))"
   ]
  },
  {
   "cell_type": "markdown",
   "metadata": {},
   "source": [
    "Тип можно указывать:"
   ]
  },
  {
   "cell_type": "code",
   "execution_count": 53,
   "metadata": {},
   "outputs": [
    {
     "name": "stdout",
     "output_type": "stream",
     "text": [
      "[[0 0 0]\n",
      " [0 0 0]] int64\n"
     ]
    }
   ],
   "source": [
    "int_zeros_matrix = np.zeros((2, 3), dtype=int)\n",
    "print(int_zeros_matrix, int_zeros_matrix.dtype)"
   ]
  },
  {
   "cell_type": "markdown",
   "metadata": {},
   "source": [
    "Тип данных может поменять."
   ]
  },
  {
   "cell_type": "code",
   "execution_count": 54,
   "metadata": {},
   "outputs": [
    {
     "name": "stdout",
     "output_type": "stream",
     "text": [
      "[[0. 0. 0.]\n",
      " [0. 0. 0.]] float64\n"
     ]
    }
   ],
   "source": [
    "float_zeros_matrix = int_zeros_matrix.astype(np.float64)\n",
    "print(float_zeros_matrix, float_zeros_matrix.dtype)"
   ]
  },
  {
   "cell_type": "markdown",
   "metadata": {},
   "source": [
    "`ones` $\\text{---}$ матрица, заполненная единицами (*не* единичная матрица)."
   ]
  },
  {
   "cell_type": "code",
   "execution_count": 51,
   "metadata": {},
   "outputs": [
    {
     "name": "stdout",
     "output_type": "stream",
     "text": [
      "[[1. 1. 1.]\n",
      " [1. 1. 1.]]\n"
     ]
    }
   ],
   "source": [
    "print(np.ones((2, 3)))"
   ]
  },
  {
   "cell_type": "markdown",
   "metadata": {},
   "source": [
    "`full` $\\text{---}$ создать и заполнить матрицу значением"
   ]
  },
  {
   "cell_type": "code",
   "execution_count": 53,
   "metadata": {},
   "outputs": [
    {
     "name": "stdout",
     "output_type": "stream",
     "text": [
      "[[6 6 6]\n",
      " [6 6 6]]\n"
     ]
    }
   ],
   "source": [
    "print(np.full((2, 3), 6)) # второй (не третий, его тут нет) аргумент --\n",
    "                          # желаемое значение"
   ]
  },
  {
   "cell_type": "markdown",
   "metadata": {},
   "source": [
    "`identity` и `eye` для создания единичных матриц. `identity` $\\text{---}$ прямой как палка: даёшь размер (одним числом, т.к. единичная матрица по определению квадратная), получаешь матрицу."
   ]
  },
  {
   "cell_type": "code",
   "execution_count": 55,
   "metadata": {},
   "outputs": [
    {
     "name": "stdout",
     "output_type": "stream",
     "text": [
      "[[1. 0. 0.]\n",
      " [0. 1. 0.]\n",
      " [0. 0. 1.]]\n"
     ]
    }
   ],
   "source": [
    "print(np.identity(3))"
   ]
  },
  {
   "cell_type": "markdown",
   "metadata": {},
   "source": [
    "Функция `eye` интереснее. Она может создавать прямоугольные \"единичные\" матрицы, но и смещать диагональ вверх или вниз. За это отвечают аргументы `M` (количество столбцов) и `k` соответственно."
   ]
  },
  {
   "cell_type": "code",
   "execution_count": 9,
   "metadata": {},
   "outputs": [
    {
     "name": "stdout",
     "output_type": "stream",
     "text": [
      "np.eye(3):\n",
      "[[1. 0. 0.]\n",
      " [0. 1. 0.]\n",
      " [0. 0. 1.]]\n",
      "\n",
      "np.eye(3, M=5):\n",
      "[[1. 0. 0. 0. 0.]\n",
      " [0. 1. 0. 0. 0.]\n",
      " [0. 0. 1. 0. 0.]]\n",
      "\n",
      "np.eye(3, M=2):\n",
      "[[1. 0.]\n",
      " [0. 1.]\n",
      " [0. 0.]]\n",
      "\n",
      "np.eye(3, k=1):\n",
      "[[0. 1. 0.]\n",
      " [0. 0. 1.]\n",
      " [0. 0. 0.]]\n",
      "\n",
      "np.eye(3, k=-1):\n",
      "[[0. 0. 0.]\n",
      " [1. 0. 0.]\n",
      " [0. 1. 0.]]\n"
     ]
    }
   ],
   "source": [
    "print('np.eye(3):')\n",
    "print(np.eye(3))\n",
    "print('\\nnp.eye(3, M=5):')\n",
    "print(np.eye(3, M=5))\n",
    "print('\\nnp.eye(3, M=2):')\n",
    "print(np.eye(3, M=2))\n",
    "print('\\nnp.eye(3, k=1):')\n",
    "print(np.eye(3, k=1))\n",
    "print('\\nnp.eye(3, k=-1):')\n",
    "print(np.eye(3, k=-1))"
   ]
  },
  {
   "cell_type": "code",
   "execution_count": 11,
   "metadata": {},
   "outputs": [
    {
     "name": "stdout",
     "output_type": "stream",
     "text": [
      "np.eye(5, M=2, k=-1):\n",
      "[[0. 0.]\n",
      " [1. 0.]\n",
      " [0. 1.]\n",
      " [0. 0.]\n",
      " [0. 0.]]\n"
     ]
    }
   ],
   "source": [
    "print('np.eye(5, M=2, k=-1):')\n",
    "print(np.eye(5, M=2, k=-1))"
   ]
  },
  {
   "cell_type": "markdown",
   "metadata": {},
   "source": [
    "#### Создание последовательностей\n",
    "\n",
    "##### `np.arange`\n",
    "\n",
    "Вспоминаем про `range` из прошлого файла. Если по какой-то причине у вас не было его, то можете обновить с моего [github](https://github.com/dragondangun/em_ml)а. Та же самая идея, только возвращается `ndarray`, а также шаг может быть вещественным."
   ]
  },
  {
   "cell_type": "code",
   "execution_count": 55,
   "metadata": {},
   "outputs": [
    {
     "name": "stdout",
     "output_type": "stream",
     "text": [
      "[0 1 2]\n",
      "int64\n"
     ]
    }
   ],
   "source": [
    "aranged = np.arange(3)\n",
    "print(aranged)\n",
    "print(aranged.dtype)"
   ]
  },
  {
   "cell_type": "code",
   "execution_count": 56,
   "metadata": {},
   "outputs": [
    {
     "name": "stdout",
     "output_type": "stream",
     "text": [
      "[-2 -1  0  1  2]\n",
      "int64\n"
     ]
    }
   ],
   "source": [
    "aranged = np.arange(-2, 3)\n",
    "print(aranged)\n",
    "print(aranged.dtype)"
   ]
  },
  {
   "cell_type": "code",
   "execution_count": 57,
   "metadata": {},
   "outputs": [
    {
     "name": "stdout",
     "output_type": "stream",
     "text": [
      "[-2.0000000e+00 -1.6000000e+00 -1.2000000e+00 -8.0000000e-01\n",
      " -4.0000000e-01 -4.4408921e-16  4.0000000e-01  8.0000000e-01\n",
      "  1.2000000e+00  1.6000000e+00]\n",
      "float64\n"
     ]
    }
   ],
   "source": [
    "aranged = np.arange(-2, 2, 0.4) # здесь range бы сломался\n",
    "print(aranged)\n",
    "print(aranged.dtype)"
   ]
  },
  {
   "cell_type": "code",
   "execution_count": 58,
   "metadata": {},
   "outputs": [
    {
     "name": "stdout",
     "output_type": "stream",
     "text": [
      "[ 1.1  0.7  0.3 -0.1 -0.5 -0.9]\n",
      "float64\n"
     ]
    }
   ],
   "source": [
    "aranged = np.arange(1.1, -1, -0.4) # здесь range бы сломался\n",
    "print(aranged)\n",
    "print(aranged.dtype)"
   ]
  },
  {
   "cell_type": "markdown",
   "metadata": {},
   "source": [
    "##### `np.linspace`\n",
    "\n",
    "Идея тоже простая. Указываете начальную точку, указываете конечную (здесь **включительно**) и указываете желаемое количество точек, а функция генерирует массив равномерно расположенных точек."
   ]
  },
  {
   "cell_type": "code",
   "execution_count": 21,
   "metadata": {},
   "outputs": [
    {
     "data": {
      "text/plain": [
       "array([-2.        , -1.55555556, -1.11111111, -0.66666667, -0.22222222,\n",
       "        0.22222222,  0.66666667,  1.11111111,  1.55555556,  2.        ])"
      ]
     },
     "execution_count": 21,
     "metadata": {},
     "output_type": "execute_result"
    }
   ],
   "source": [
    "np.linspace(-2, 2, 10)"
   ]
  },
  {
   "cell_type": "code",
   "execution_count": 23,
   "metadata": {},
   "outputs": [
    {
     "data": {
      "text/plain": [
       "array([3.        , 2.88888889, 2.77777778, 2.66666667, 2.55555556,\n",
       "       2.44444444, 2.33333333, 2.22222222, 2.11111111, 2.        ])"
      ]
     },
     "execution_count": 23,
     "metadata": {},
     "output_type": "execute_result"
    }
   ],
   "source": [
    "np.linspace(3, 2, 10) # в сторону уменьшения тоже можно"
   ]
  },
  {
   "cell_type": "markdown",
   "metadata": {},
   "source": [
    "<a name=\"for_curious2\">Для любознательных</a>: разобраться с функцией `logspace`. \n",
    "\n",
    "#### Генерация псевдослучайных чисел\n",
    "\n",
    "Из курса теории вероятности вы знаете, что \"случайность бывает разная\". Есть такая штука как распределение и от него зависит как \"должны вести себя случайные величины\". \n",
    "\n",
    "Для генерации равномерно распределённой псевдойслучайной величина на полуинтервале $[0;1)$ используется функция `rand` из `numpy.random`. Можно писать так: "
   ]
  },
  {
   "cell_type": "code",
   "execution_count": 24,
   "metadata": {},
   "outputs": [
    {
     "data": {
      "text/plain": [
       "0.9547204837595107"
      ]
     },
     "execution_count": 24,
     "metadata": {},
     "output_type": "execute_result"
    }
   ],
   "source": [
    "np.random.rand()"
   ]
  },
  {
   "cell_type": "markdown",
   "metadata": {},
   "source": [
    "Можно ввести синоним (как и в случае с `np`, но в там это чуть ли не \"обязательная\" вещь, то здесь это вкусовщина): "
   ]
  },
  {
   "cell_type": "code",
   "execution_count": 27,
   "metadata": {},
   "outputs": [
    {
     "data": {
      "text/plain": [
       "0.4162096808724933"
      ]
     },
     "execution_count": 27,
     "metadata": {},
     "output_type": "execute_result"
    }
   ],
   "source": [
    "import numpy.random as rnd\n",
    "\n",
    "rnd.rand()"
   ]
  },
  {
   "cell_type": "markdown",
   "metadata": {},
   "source": [
    "Можно создать матрицу из псевдослучайных (р.р) чисел, для этого передаём желаемую форму в функцию."
   ]
  },
  {
   "cell_type": "code",
   "execution_count": 28,
   "metadata": {},
   "outputs": [
    {
     "data": {
      "text/plain": [
       "array([[0.68702838, 0.53629233],\n",
       "       [0.24807523, 0.76044603],\n",
       "       [0.88669286, 0.10913238]])"
      ]
     },
     "execution_count": 28,
     "metadata": {},
     "output_type": "execute_result"
    }
   ],
   "source": [
    "rnd.rand(3, 2)"
   ]
  },
  {
   "cell_type": "markdown",
   "metadata": {},
   "source": [
    "Нормальное распределение, как известно, параметрическое, а значит определяется ими (а точнее мат., ожиданием и дисперсией). Следовательно для того, чтобы сгенерировать псевдослучайную величину, распределённую нормально, нужно передать эти параметры, если этого не сделать, то мы получим псевдослучайную, стандартно распределённую величину ($N(\\mu=0,~\\sigma=1)$)."
   ]
  },
  {
   "cell_type": "code",
   "execution_count": 36,
   "metadata": {},
   "outputs": [
    {
     "data": {
      "text/plain": [
       "1.3920549337803085"
      ]
     },
     "execution_count": 36,
     "metadata": {},
     "output_type": "execute_result"
    }
   ],
   "source": [
    "rnd.normal(3, 4) # \\mu = 3, \\sigma = 4"
   ]
  },
  {
   "cell_type": "code",
   "execution_count": 37,
   "metadata": {},
   "outputs": [
    {
     "data": {
      "text/plain": [
       "array([[10.54400637,  3.97854519, -0.02990886],\n",
       "       [-2.70807928, -1.08869334,  1.81491874]])"
      ]
     },
     "execution_count": 37,
     "metadata": {},
     "output_type": "execute_result"
    }
   ],
   "source": [
    "rnd.normal(3, 4, (2, 3)) # 2 строки, 3 столбца"
   ]
  },
  {
   "cell_type": "markdown",
   "metadata": {},
   "source": [
    "<a name=\"for_curious3\">Для любознательных</a>: понять, что делает вызов кода ниже:"
   ]
  },
  {
   "cell_type": "code",
   "execution_count": 47,
   "metadata": {},
   "outputs": [
    {
     "data": {
      "text/plain": [
       "array([ 4.36351287,  2.6259662 , -2.86410163])"
      ]
     },
     "execution_count": 47,
     "metadata": {},
     "output_type": "execute_result"
    }
   ],
   "source": [
    "rnd.normal((2, 3, 2), (3, 4, 5)) "
   ]
  },
  {
   "cell_type": "markdown",
   "metadata": {},
   "source": [
    "Если нам нужно просто стандартное распределение, то можем воспользоваться функцией `random.randn`, которая работает по тому же принципу, как и `random.rand`."
   ]
  },
  {
   "cell_type": "code",
   "execution_count": 49,
   "metadata": {},
   "outputs": [
    {
     "data": {
      "text/plain": [
       "array([[ 0.78520433, -1.12349732],\n",
       "       [-0.45039312, -0.75701072],\n",
       "       [-0.48099677,  0.3476676 ]])"
      ]
     },
     "execution_count": 49,
     "metadata": {},
     "output_type": "execute_result"
    }
   ],
   "source": [
    "rnd.randn(3,2)"
   ]
  },
  {
   "cell_type": "markdown",
   "metadata": {},
   "source": [
    "<a name=\"for_curious4\">Для любознательных</a>: найти как генерировать другие распределения.\n",
    "\n",
    "### Атрибуты и операции\n",
    "\n",
    "Мы уже разобрали некоторые атрибуты, как `shape` и `dtype` (тип данных элементов, если вдруг), давайте рассмотрим остальные. Для примера создадим небольшую матрицу."
   ]
  },
  {
   "cell_type": "code",
   "execution_count": 60,
   "metadata": {},
   "outputs": [
    {
     "name": "stdout",
     "output_type": "stream",
     "text": [
      "Число измерений 2\n",
      "Общее число элементов: 6\n"
     ]
    }
   ],
   "source": [
    "matrix = np.array([\n",
    "    [1, 2, 3],\n",
    "    [4, 5, 6]\n",
    "])\n",
    "\n",
    "print(f'Число измерений {matrix.ndim}\\n'\\\n",
    "      f'Общее число элементов: {matrix.size}')"
   ]
  },
  {
   "cell_type": "markdown",
   "metadata": {},
   "source": [
    "#### `reshape` (**важно**)\n",
    "\n",
    "Давайте изменим вид нашей матрицы."
   ]
  },
  {
   "cell_type": "code",
   "execution_count": 77,
   "metadata": {},
   "outputs": [
    {
     "name": "stdout",
     "output_type": "stream",
     "text": [
      "Оригинал:\n",
      "[[0 2 3]\n",
      " [4 5 6]]\n",
      "\n",
      "Изменённая:\n",
      "[[0 2]\n",
      " [3 4]\n",
      " [5 6]]\n"
     ]
    }
   ],
   "source": [
    "matrix_reshaped = matrix.reshape(3, 2)\n",
    "\n",
    "print('Оригинал:')\n",
    "print(matrix)\n",
    "print('\\nИзменённая:')\n",
    "print(matrix_reshaped)"
   ]
  },
  {
   "cell_type": "markdown",
   "metadata": {},
   "source": [
    "**Важно**, данные не копируются, они передаются по ссылке, если изменится новая матрица, старая также изменится."
   ]
  },
  {
   "cell_type": "code",
   "execution_count": 80,
   "metadata": {},
   "outputs": [
    {
     "name": "stdout",
     "output_type": "stream",
     "text": [
      "Изменённая:\n",
      "[[0 2]\n",
      " [3 4]\n",
      " [5 6]]\n",
      "\n",
      "Оригинальная:\n",
      "[[0 2 3]\n",
      " [4 5 6]]\n"
     ]
    }
   ],
   "source": [
    "matrix_reshaped[0, 0] = 0\n",
    "print('Изменённая:')\n",
    "print(matrix_reshaped)\n",
    "print('\\nОригинальная:')\n",
    "print(matrix)"
   ]
  },
  {
   "cell_type": "markdown",
   "metadata": {},
   "source": [
    "Сделать \"плоским\". `ravel` тоже работает со ссылками."
   ]
  },
  {
   "cell_type": "code",
   "execution_count": 82,
   "metadata": {},
   "outputs": [
    {
     "data": {
      "text/plain": [
       "array([0, 2, 3, 4, 5, 6])"
      ]
     },
     "execution_count": 82,
     "metadata": {},
     "output_type": "execute_result"
    }
   ],
   "source": [
    "array = matrix.ravel()\n",
    "array"
   ]
  },
  {
   "cell_type": "markdown",
   "metadata": {},
   "source": [
    "Если нужно скопировать используйте `flatten`."
   ]
  },
  {
   "cell_type": "code",
   "execution_count": 85,
   "metadata": {},
   "outputs": [
    {
     "data": {
      "text/plain": [
       "array([0, 2, 3, 4, 5, 6])"
      ]
     },
     "execution_count": 85,
     "metadata": {},
     "output_type": "execute_result"
    }
   ],
   "source": [
    "flatted = matrix.flatten()\n",
    "flatted"
   ]
  },
  {
   "cell_type": "markdown",
   "metadata": {},
   "source": [
    "Изменения во `flatted` не изменят оригинальный `matrix`. "
   ]
  },
  {
   "cell_type": "code",
   "execution_count": 86,
   "metadata": {},
   "outputs": [
    {
     "name": "stdout",
     "output_type": "stream",
     "text": [
      "[1 2 3 4 5 6] \n",
      "Исходная матрица:\n",
      "[[0 2 3]\n",
      " [4 5 6]]\n"
     ]
    }
   ],
   "source": [
    "flatted[0] = 1\n",
    "print(flatted, '\\nИсходная матрица:')\n",
    "print(matrix)"
   ]
  },
  {
   "cell_type": "markdown",
   "metadata": {},
   "source": [
    "Продемонстрирую, что изменения в `array` (который был создан с помощью `ravel`) изменит оригинальную матрицу."
   ]
  },
  {
   "cell_type": "code",
   "execution_count": 87,
   "metadata": {},
   "outputs": [
    {
     "name": "stdout",
     "output_type": "stream",
     "text": [
      "[1 2 3 4 5 6] \n",
      "Исходная матрица:\n",
      "[[1 2 3]\n",
      " [4 5 6]]\n"
     ]
    }
   ],
   "source": [
    "array[0] = 1\n",
    "print(array, '\\nИсходная матрица:')\n",
    "print(matrix)"
   ]
  },
  {
   "cell_type": "markdown",
   "metadata": {},
   "source": [
    "### Индексация\n",
    "\n",
    "Индексация одномерных массивов не отличается от индексации в \"простом\" Python, в том числе и слайсы/срезы, а базовую индексацию многомерных вы видели в [этом разделе](#функции-инициализации), так что без повторений двигаемся дальше. \n",
    "\n",
    "Во-первых, отрицательная идексация многомерных массивов работает."
   ]
  },
  {
   "cell_type": "code",
   "execution_count": 92,
   "metadata": {},
   "outputs": [
    {
     "name": "stdout",
     "output_type": "stream",
     "text": [
      "6\n"
     ]
    }
   ],
   "source": [
    "print(matrix[-1, -1])"
   ]
  },
  {
   "cell_type": "markdown",
   "metadata": {},
   "source": [
    "Во-вторых, для кого это было не очевидно, \"одномерным индексом\" в матрице индексируются строки, например ниже мы получаем первую строку из нашей матрицы. "
   ]
  },
  {
   "cell_type": "code",
   "execution_count": 94,
   "metadata": {},
   "outputs": [
    {
     "name": "stdout",
     "output_type": "stream",
     "text": [
      "[1 2 3]\n"
     ]
    }
   ],
   "source": [
    "print(matrix[0])"
   ]
  },
  {
   "cell_type": "markdown",
   "metadata": {},
   "source": [
    "#### Многомерные срезы\n",
    "\n",
    "С многомерными срезами дела обстоят интереснее. "
   ]
  },
  {
   "cell_type": "code",
   "execution_count": 99,
   "metadata": {},
   "outputs": [
    {
     "name": "stdout",
     "output_type": "stream",
     "text": [
      "[[ 6  8  3]\n",
      " [ 6 13  9]\n",
      " [ 5  5  4]]\n"
     ]
    }
   ],
   "source": [
    "matrix = (rnd.rand(3,3)*20).astype(int) # создаём случайную матрицу размером 3x3\n",
    "                                        # умножаем каждый её элемент (из \n",
    "                                        # полуинтервала [0;1)) на 20 и \n",
    "                                        # конвертируем в целочисленные для \n",
    "                                        # простоты и красоты\n",
    "print(matrix)"
   ]
  },
  {
   "cell_type": "code",
   "execution_count": 108,
   "metadata": {},
   "outputs": [
    {
     "name": "stdout",
     "output_type": "stream",
     "text": [
      "[[ 6  8  3]\n",
      " [ 6 13  9]]\n"
     ]
    }
   ],
   "source": [
    "print(matrix[:2]) # первые две строки, все столбцы"
   ]
  },
  {
   "cell_type": "code",
   "execution_count": 113,
   "metadata": {},
   "outputs": [
    {
     "name": "stdout",
     "output_type": "stream",
     "text": [
      "[5 5 4]\n"
     ]
    }
   ],
   "source": [
    "print(matrix[-1, :]) # последняя строка"
   ]
  },
  {
   "cell_type": "code",
   "execution_count": 114,
   "metadata": {},
   "outputs": [
    {
     "name": "stdout",
     "output_type": "stream",
     "text": [
      "[3 9 4]\n"
     ]
    }
   ],
   "source": [
    "print(matrix[:, -1]) # последний столбец"
   ]
  },
  {
   "cell_type": "code",
   "execution_count": 111,
   "metadata": {},
   "outputs": [
    {
     "name": "stdout",
     "output_type": "stream",
     "text": [
      "[[ 6  8]\n",
      " [ 6 13]\n",
      " [ 5  5]]\n"
     ]
    }
   ],
   "source": [
    "print(matrix[:, :2]) # все строки, первые два столбца"
   ]
  },
  {
   "cell_type": "code",
   "execution_count": 109,
   "metadata": {},
   "outputs": [
    {
     "name": "stdout",
     "output_type": "stream",
     "text": [
      "[[ 6 13  9]\n",
      " [ 5  5  4]]\n"
     ]
    }
   ],
   "source": [
    "print(matrix[1:]) # последние две строки, все столбцы"
   ]
  },
  {
   "cell_type": "code",
   "execution_count": 103,
   "metadata": {},
   "outputs": [
    {
     "name": "stdout",
     "output_type": "stream",
     "text": [
      "[[6 3]\n",
      " [6 9]\n",
      " [5 4]]\n"
     ]
    }
   ],
   "source": [
    "print(matrix[:, ::2]) # все строки, каждый второй столбец"
   ]
  },
  {
   "cell_type": "code",
   "execution_count": 110,
   "metadata": {},
   "outputs": [
    {
     "name": "stdout",
     "output_type": "stream",
     "text": [
      "[[ 8  3]\n",
      " [13  9]\n",
      " [ 5  4]]\n"
     ]
    }
   ],
   "source": [
    "print(matrix[:, 1:]) # все строки, последние два столбца"
   ]
  },
  {
   "cell_type": "code",
   "execution_count": 105,
   "metadata": {},
   "outputs": [
    {
     "name": "stdout",
     "output_type": "stream",
     "text": [
      "[[6 8 3]\n",
      " [5 5 4]]\n"
     ]
    }
   ],
   "source": [
    "print(matrix[::2, :]) # каждая вторая строка, все столбцы"
   ]
  },
  {
   "cell_type": "code",
   "execution_count": 106,
   "metadata": {},
   "outputs": [
    {
     "name": "stdout",
     "output_type": "stream",
     "text": [
      "[[6 3]\n",
      " [5 4]]\n"
     ]
    }
   ],
   "source": [
    "print(matrix[::2, ::2]) # каждая вторая строка, каждый второй столбец"
   ]
  },
  {
   "cell_type": "code",
   "execution_count": 107,
   "metadata": {},
   "outputs": [
    {
     "name": "stdout",
     "output_type": "stream",
     "text": [
      "[[ 8  3]\n",
      " [13  9]]\n"
     ]
    }
   ],
   "source": [
    "print(matrix[:2, 1:]) # первые две строки, последние два столбца"
   ]
  },
  {
   "cell_type": "markdown",
   "metadata": {},
   "source": [
    "<a name=\"for_curious5\">Для любознательных</a>: рассмотреть какие варианты я упустил (также потренироваться на матрицах большего размера).\n",
    "\n",
    "#### Булева индексация\n",
    "\n",
    "Идея проста. Есть массив, есть массив булевых значений того же размера. Применяем одно к другому, забираем только те элементы первого массива, которые по порядку совпали с `True`-элементами булевого массива. \n",
    "\n",
    "Рассмотрим на примере. Во время зарождения black metal были споры является та или иная группа истинным (true) black metal или нет. Один из критериев $\\text{---}$ количество фанатов, если группа была слишком известной, то она не была настоящим black metal. Ниже представлен массив количества фанатов каких-то групп. Будем считать, что если о группе знает больше двух человек (самого исполнителя и его матери), то группа не может считаться настоящим black metal. Найдите количество true black metal групп."
   ]
  },
  {
   "cell_type": "code",
   "execution_count": 116,
   "metadata": {},
   "outputs": [
    {
     "name": "stdout",
     "output_type": "stream",
     "text": [
      "10 10\n",
      "3\n"
     ]
    }
   ],
   "source": [
    "bm_bands_fans = np.array([3, 1, 2, 5, 6, 1, 6, 7, 4, 9]) # количество фанатов\n",
    "mask = bm_bands_fans <= 2 # выбираем только те, где количество фанатов не больше 2 \n",
    "print(len(bm_bands_fans), len(mask)) # демонстрация того, что количество элементов одинаковое\n",
    "\n",
    "selected = bm_bands_fans[mask] # выбираем только подходящие\n",
    "print(len(selected)) # находим количестов подходящих"
   ]
  },
  {
   "cell_type": "markdown",
   "metadata": {},
   "source": [
    "#### \"Прихотливая\" индексация (фанси / фэнси / fancy indexing)\n",
    "\n",
    "Всё снова довольно просто: массивы могут быть использованы для индексации."
   ]
  },
  {
   "cell_type": "code",
   "execution_count": null,
   "metadata": {},
   "outputs": [
    {
     "name": "stdout",
     "output_type": "stream",
     "text": [
      "[1 6 7]\n",
      "[1 9 3]\n",
      "[0 2 4]\n",
      "[0 8 4]\n"
     ]
    }
   ],
   "source": [
    "arr = np.arange(11)\n",
    "print(arr[[1, 6, 7]]) # передаём список индексов\n",
    "print(arr[[1, 9, 3]]) # \"неправильный\" порядок допустим\n",
    "\n",
    "inds = np.array([0, 2, 4])\n",
    "print(arr[inds])\n",
    "inds = np.array([0, 8, 4])\n",
    "print(arr[inds])"
   ]
  },
  {
   "cell_type": "markdown",
   "metadata": {},
   "source": [
    "Для многомерных массивов та же история:"
   ]
  },
  {
   "cell_type": "code",
   "execution_count": 6,
   "metadata": {},
   "outputs": [
    {
     "name": "stdout",
     "output_type": "stream",
     "text": [
      "[[1 2 3]\n",
      " [7 8 9]]\n",
      "[[2 3]\n",
      " [5 6]\n",
      " [8 9]]\n"
     ]
    }
   ],
   "source": [
    "matrix = np.array([[1, 2, 3],\n",
    "                  [4, 5, 6],\n",
    "                  [7, 8, 9]])\n",
    "\n",
    "print(matrix[[0, 2], :]) # первая, третья строка\n",
    "print(matrix[:, [1, 2]]) # второй, третий столбец"
   ]
  },
  {
   "cell_type": "markdown",
   "metadata": {},
   "source": [
    "#### Изменение части массива\n",
    "\n",
    "Можно изменять сразу несколько элементов в массиве (мне же не стоит уточнять, что изменить только один элемент также возможно?)."
   ]
  },
  {
   "cell_type": "code",
   "execution_count": 7,
   "metadata": {},
   "outputs": [
    {
     "name": "stdout",
     "output_type": "stream",
     "text": [
      "[  0 100  50  75   4   5   6   7   8   9  10]\n"
     ]
    }
   ],
   "source": [
    "arr[1:4] = [100, 50, 75] # напоминаю, что последний индекс не включён\n",
    "print(arr)"
   ]
  },
  {
   "cell_type": "markdown",
   "metadata": {},
   "source": [
    "### Операции над массивами и broadcasting (броадкастинг / транслирование)\n",
    "\n",
    "#### Арифмитические операции\n",
    "\n",
    "Операции сложения, вычитания, умножения и деления выполняются поэлементно."
   ]
  },
  {
   "cell_type": "code",
   "execution_count": 2,
   "metadata": {},
   "outputs": [
    {
     "name": "stdout",
     "output_type": "stream",
     "text": [
      "Сложение: [5 7 9]\n",
      "Вычитание: [-3 -3 -3]\n",
      "Умножение: [ 4 10 18]\n",
      "Деление: [0.25 0.4  0.5 ]\n"
     ]
    }
   ],
   "source": [
    "a = np.array([1, 2, 3])\n",
    "b = np.array([4, 5, 6])\n",
    "\n",
    "print(f'Сложение: {a + b}')\n",
    "print(f'Вычитание: {a - b}')\n",
    "print(f'Умножение: {a * b}')\n",
    "print(f'Деление: {a / b}')"
   ]
  },
  {
   "cell_type": "markdown",
   "metadata": {},
   "source": [
    "##### Операции со скалярами"
   ]
  },
  {
   "cell_type": "code",
   "execution_count": 3,
   "metadata": {},
   "outputs": [
    {
     "name": "stdout",
     "output_type": "stream",
     "text": [
      "a + 10: [11 12 13]\n",
      "a * 2: [2 4 6]\n"
     ]
    }
   ],
   "source": [
    "print(f'a + 10: {a + 10}')\n",
    "print(f'a * 2: {a * 2}')"
   ]
  },
  {
   "cell_type": "markdown",
   "metadata": {},
   "source": [
    "#### Поэлементные математические функции\n",
    "\n",
    "Можно применить одну функцию ко всем элементам массива, без использования функций высшего порядка (см. `map` в прошлом занятии)."
   ]
  },
  {
   "cell_type": "code",
   "execution_count": 4,
   "metadata": {},
   "outputs": [
    {
     "name": "stdout",
     "output_type": "stream",
     "text": [
      "[0.84147098 0.90929743 0.14112001]\n",
      "[0.         0.69314718 1.09861229]\n",
      "[ 2.71828183  7.3890561  20.08553692]\n"
     ]
    }
   ],
   "source": [
    "print(np.sin(a))\n",
    "print(np.log(a))\n",
    "print(np.exp(a))"
   ]
  },
  {
   "cell_type": "markdown",
   "metadata": {},
   "source": [
    "#### Broadcasting\n",
    "\n",
    "В NumPy можно выполнять арифмитические операции над массивами разных размеров, если они удовлетворяют правилам броадкастинга. Один из случаев был показан выше, взаимодействие массива и скаляра."
   ]
  },
  {
   "cell_type": "markdown",
   "metadata": {},
   "source": [
    "##### Правила\n",
    "\n",
    "Если размеры массивов не совпадают, NumPy добавляет недостающие оси слева. Здесь `b` из `(3,)` дополнили до `(3, 3)`\n"
   ]
  },
  {
   "cell_type": "code",
   "execution_count": 13,
   "metadata": {},
   "outputs": [
    {
     "name": "stdout",
     "output_type": "stream",
     "text": [
      "A:\n",
      "[[0 0 1]\n",
      " [6 1 0]\n",
      " [7 1 8]] (3, 3)\n",
      "b:  [10 20 30] (3,)\n",
      "[[10 20 31]\n",
      " [16 21 30]\n",
      " [17 21 38]]\n"
     ]
    }
   ],
   "source": [
    "A = np.random.randint(0, 11, (3, 3))\n",
    "print('A:')\n",
    "print(A, A.shape)\n",
    "\n",
    "b = np.array([10, 20, 30])\n",
    "print('b: ', b, b.shape)\n",
    "\n",
    "print(A + b)"
   ]
  },
  {
   "cell_type": "markdown",
   "metadata": {},
   "source": [
    "Если размеры осей различаются, но одна из них равна 1, NumPy расширяет её.  \n",
    "\n",
    "Случай: вектор-столбец `A` + вектор-строка `B`. В данной ситуации `A` из `(3, 1)` дополняется до `(3, 3)`, а `b` из `(3, )` $\\text{---}$ до `(3, 3)`.\n"
   ]
  },
  {
   "cell_type": "code",
   "execution_count": 14,
   "metadata": {},
   "outputs": [
    {
     "name": "stdout",
     "output_type": "stream",
     "text": [
      "A:\n",
      "[[1]\n",
      " [2]\n",
      " [3]] (3, 1)\n",
      "b:  [10 20 30] (3,)\n",
      "[[11 21 31]\n",
      " [12 22 32]\n",
      " [13 23 33]]\n"
     ]
    }
   ],
   "source": [
    "A = np.array([[1],\n",
    "              [2],\n",
    "              [3]])\n",
    "print('A:')\n",
    "print(A, A.shape)\n",
    "\n",
    "b = np.array([10, 20, 30])\n",
    "\n",
    "print('b: ', b, b.shape)\n",
    "\n",
    "print(A + b)"
   ]
  },
  {
   "cell_type": "code",
   "execution_count": 18,
   "metadata": {},
   "outputs": [
    {
     "name": "stdout",
     "output_type": "stream",
     "text": [
      "A: \n",
      "[[[9]\n",
      "  [8]\n",
      "  [7]]] (1, 3, 1)\n",
      "\n",
      "B: \n",
      "[[[10  6]]\n",
      "\n",
      " [[ 5  9]]\n",
      "\n",
      " [[ 3  4]]] (3, 1, 2)\n",
      "\n",
      "A+B: \n",
      "[[[19 15]\n",
      "  [18 14]\n",
      "  [17 13]]\n",
      "\n",
      " [[14 18]\n",
      "  [13 17]\n",
      "  [12 16]]\n",
      "\n",
      " [[12 13]\n",
      "  [11 12]\n",
      "  [10 11]]] (3, 3, 2)\n"
     ]
    }
   ],
   "source": [
    "A = np.random.randint(0, 11, (1, 3, 1))\n",
    "B = np.random.randint(0, 11, (3, 1, 2))\n",
    "\n",
    "S = A + B\n",
    "print('A: ')\n",
    "print(A, A.shape)\n",
    "print('\\nB: ')\n",
    "print(B, B.shape)\n",
    "print('\\nA+B: ')\n",
    "\n",
    "print(S, S.shape)"
   ]
  },
  {
   "cell_type": "markdown",
   "metadata": {},
   "source": [
    "<a name=\"for_curious6\">Для любознательных</a>: разобраться в сложении выше."
   ]
  },
  {
   "cell_type": "markdown",
   "metadata": {},
   "source": [
    "Если две оси имеют разные размеры и ни одна из них не равна `1`, то транслирование невозможно."
   ]
  },
  {
   "cell_type": "code",
   "execution_count": null,
   "metadata": {},
   "outputs": [],
   "source": [
    "A = np.random.randint(0, 11, (3, 4))\n",
    "B = np.random.randint(0, 11, (2, 4))\n",
    "\n",
    "print(A + B) # получите ошибку"
   ]
  },
  {
   "cell_type": "markdown",
   "metadata": {},
   "source": [
    "## Для любознательных\n",
    "\n",
    "(напоминание, ссылки почему-то работают только в html и pdf версии, VS Code не хочет)\n",
    "\n",
    "1. [Здесь](#for_curious1)\n",
    "1. [Здесь](#for_curious2)\n",
    "1. [Здесь](#for_curious3)\n",
    "1. [Здесь](#for_curious4)\n",
    "1. [Здесь](#for_curious5)\n",
    "1. [Здесь](#for_curious6)"
   ]
  }
 ],
 "metadata": {
  "kernelspec": {
   "display_name": ".venv",
   "language": "python",
   "name": "python3"
  },
  "language_info": {
   "codemirror_mode": {
    "name": "ipython",
    "version": 3
   },
   "file_extension": ".py",
   "mimetype": "text/x-python",
   "name": "python",
   "nbconvert_exporter": "python",
   "pygments_lexer": "ipython3",
   "version": "3.10.2"
  }
 },
 "nbformat": 4,
 "nbformat_minor": 2
}
